{
 "cells": [
  {
   "cell_type": "code",
   "execution_count": null,
   "id": "f1479239-c4f3-44b4-9ab9-3d90d016a32c",
   "metadata": {},
   "outputs": [],
   "source": [
    "#SALES ANALYSIS\n",
    "#1 DATA WRANGLING"
   ]
  },
  {
   "cell_type": "code",
   "execution_count": null,
   "id": "b975f958-41ca-4029-9e1d-5ee799b870e9",
   "metadata": {},
   "outputs": [],
   "source": [
    "#Inspect the data manually for missing/incorrect data using the functions isna() and notna()"
   ]
  },
  {
   "cell_type": "code",
   "execution_count": 123,
   "id": "f62bf5f9-4b94-4c96-94c0-c9f94a45c022",
   "metadata": {
    "tags": []
   },
   "outputs": [],
   "source": [
    "import pandas as pd\n",
    "df = pd.read_csv('AusApparalSales4thQrt2020.csv')"
   ]
  },
  {
   "cell_type": "code",
   "execution_count": 125,
   "id": "ec3e3959-cad2-4783-96d7-a8fbf35efa45",
   "metadata": {
    "tags": []
   },
   "outputs": [
    {
     "data": {
      "text/plain": [
       "Date     0\n",
       "Time     0\n",
       "State    0\n",
       "Group    0\n",
       "Unit     0\n",
       "Sales    0\n",
       "dtype: int64"
      ]
     },
     "execution_count": 125,
     "metadata": {},
     "output_type": "execute_result"
    }
   ],
   "source": [
    "df.isnull().sum()"
   ]
  },
  {
   "cell_type": "code",
   "execution_count": 27,
   "id": "cb119dd7-26eb-4171-9795-0c0bf66a669f",
   "metadata": {
    "tags": []
   },
   "outputs": [
    {
     "data": {
      "text/html": [
       "<div>\n",
       "<style scoped>\n",
       "    .dataframe tbody tr th:only-of-type {\n",
       "        vertical-align: middle;\n",
       "    }\n",
       "\n",
       "    .dataframe tbody tr th {\n",
       "        vertical-align: top;\n",
       "    }\n",
       "\n",
       "    .dataframe thead th {\n",
       "        text-align: right;\n",
       "    }\n",
       "</style>\n",
       "<table border=\"1\" class=\"dataframe\">\n",
       "  <thead>\n",
       "    <tr style=\"text-align: right;\">\n",
       "      <th></th>\n",
       "      <th>Date</th>\n",
       "      <th>Time</th>\n",
       "      <th>State</th>\n",
       "      <th>Group</th>\n",
       "      <th>Unit</th>\n",
       "      <th>Sales</th>\n",
       "    </tr>\n",
       "  </thead>\n",
       "  <tbody>\n",
       "    <tr>\n",
       "      <th>0</th>\n",
       "      <td>False</td>\n",
       "      <td>False</td>\n",
       "      <td>False</td>\n",
       "      <td>False</td>\n",
       "      <td>False</td>\n",
       "      <td>False</td>\n",
       "    </tr>\n",
       "    <tr>\n",
       "      <th>1</th>\n",
       "      <td>False</td>\n",
       "      <td>False</td>\n",
       "      <td>False</td>\n",
       "      <td>False</td>\n",
       "      <td>False</td>\n",
       "      <td>False</td>\n",
       "    </tr>\n",
       "    <tr>\n",
       "      <th>2</th>\n",
       "      <td>False</td>\n",
       "      <td>False</td>\n",
       "      <td>False</td>\n",
       "      <td>False</td>\n",
       "      <td>False</td>\n",
       "      <td>False</td>\n",
       "    </tr>\n",
       "    <tr>\n",
       "      <th>3</th>\n",
       "      <td>False</td>\n",
       "      <td>False</td>\n",
       "      <td>False</td>\n",
       "      <td>False</td>\n",
       "      <td>False</td>\n",
       "      <td>False</td>\n",
       "    </tr>\n",
       "    <tr>\n",
       "      <th>4</th>\n",
       "      <td>False</td>\n",
       "      <td>False</td>\n",
       "      <td>False</td>\n",
       "      <td>False</td>\n",
       "      <td>False</td>\n",
       "      <td>False</td>\n",
       "    </tr>\n",
       "    <tr>\n",
       "      <th>...</th>\n",
       "      <td>...</td>\n",
       "      <td>...</td>\n",
       "      <td>...</td>\n",
       "      <td>...</td>\n",
       "      <td>...</td>\n",
       "      <td>...</td>\n",
       "    </tr>\n",
       "    <tr>\n",
       "      <th>7555</th>\n",
       "      <td>False</td>\n",
       "      <td>False</td>\n",
       "      <td>False</td>\n",
       "      <td>False</td>\n",
       "      <td>False</td>\n",
       "      <td>False</td>\n",
       "    </tr>\n",
       "    <tr>\n",
       "      <th>7556</th>\n",
       "      <td>False</td>\n",
       "      <td>False</td>\n",
       "      <td>False</td>\n",
       "      <td>False</td>\n",
       "      <td>False</td>\n",
       "      <td>False</td>\n",
       "    </tr>\n",
       "    <tr>\n",
       "      <th>7557</th>\n",
       "      <td>False</td>\n",
       "      <td>False</td>\n",
       "      <td>False</td>\n",
       "      <td>False</td>\n",
       "      <td>False</td>\n",
       "      <td>False</td>\n",
       "    </tr>\n",
       "    <tr>\n",
       "      <th>7558</th>\n",
       "      <td>False</td>\n",
       "      <td>False</td>\n",
       "      <td>False</td>\n",
       "      <td>False</td>\n",
       "      <td>False</td>\n",
       "      <td>False</td>\n",
       "    </tr>\n",
       "    <tr>\n",
       "      <th>7559</th>\n",
       "      <td>False</td>\n",
       "      <td>False</td>\n",
       "      <td>False</td>\n",
       "      <td>False</td>\n",
       "      <td>False</td>\n",
       "      <td>False</td>\n",
       "    </tr>\n",
       "  </tbody>\n",
       "</table>\n",
       "<p>7560 rows × 6 columns</p>\n",
       "</div>"
      ],
      "text/plain": [
       "       Date   Time  State  Group   Unit  Sales\n",
       "0     False  False  False  False  False  False\n",
       "1     False  False  False  False  False  False\n",
       "2     False  False  False  False  False  False\n",
       "3     False  False  False  False  False  False\n",
       "4     False  False  False  False  False  False\n",
       "...     ...    ...    ...    ...    ...    ...\n",
       "7555  False  False  False  False  False  False\n",
       "7556  False  False  False  False  False  False\n",
       "7557  False  False  False  False  False  False\n",
       "7558  False  False  False  False  False  False\n",
       "7559  False  False  False  False  False  False\n",
       "\n",
       "[7560 rows x 6 columns]"
      ]
     },
     "execution_count": 27,
     "metadata": {},
     "output_type": "execute_result"
    }
   ],
   "source": [
    "df.isna()"
   ]
  },
  {
   "cell_type": "code",
   "execution_count": 29,
   "id": "5555e6ca-1f78-4677-8fde-b2e2bca1c9c9",
   "metadata": {
    "tags": []
   },
   "outputs": [
    {
     "data": {
      "text/html": [
       "<div>\n",
       "<style scoped>\n",
       "    .dataframe tbody tr th:only-of-type {\n",
       "        vertical-align: middle;\n",
       "    }\n",
       "\n",
       "    .dataframe tbody tr th {\n",
       "        vertical-align: top;\n",
       "    }\n",
       "\n",
       "    .dataframe thead th {\n",
       "        text-align: right;\n",
       "    }\n",
       "</style>\n",
       "<table border=\"1\" class=\"dataframe\">\n",
       "  <thead>\n",
       "    <tr style=\"text-align: right;\">\n",
       "      <th></th>\n",
       "      <th>Date</th>\n",
       "      <th>Time</th>\n",
       "      <th>State</th>\n",
       "      <th>Group</th>\n",
       "      <th>Unit</th>\n",
       "      <th>Sales</th>\n",
       "    </tr>\n",
       "  </thead>\n",
       "  <tbody>\n",
       "    <tr>\n",
       "      <th>0</th>\n",
       "      <td>True</td>\n",
       "      <td>True</td>\n",
       "      <td>True</td>\n",
       "      <td>True</td>\n",
       "      <td>True</td>\n",
       "      <td>True</td>\n",
       "    </tr>\n",
       "    <tr>\n",
       "      <th>1</th>\n",
       "      <td>True</td>\n",
       "      <td>True</td>\n",
       "      <td>True</td>\n",
       "      <td>True</td>\n",
       "      <td>True</td>\n",
       "      <td>True</td>\n",
       "    </tr>\n",
       "    <tr>\n",
       "      <th>2</th>\n",
       "      <td>True</td>\n",
       "      <td>True</td>\n",
       "      <td>True</td>\n",
       "      <td>True</td>\n",
       "      <td>True</td>\n",
       "      <td>True</td>\n",
       "    </tr>\n",
       "    <tr>\n",
       "      <th>3</th>\n",
       "      <td>True</td>\n",
       "      <td>True</td>\n",
       "      <td>True</td>\n",
       "      <td>True</td>\n",
       "      <td>True</td>\n",
       "      <td>True</td>\n",
       "    </tr>\n",
       "    <tr>\n",
       "      <th>4</th>\n",
       "      <td>True</td>\n",
       "      <td>True</td>\n",
       "      <td>True</td>\n",
       "      <td>True</td>\n",
       "      <td>True</td>\n",
       "      <td>True</td>\n",
       "    </tr>\n",
       "    <tr>\n",
       "      <th>...</th>\n",
       "      <td>...</td>\n",
       "      <td>...</td>\n",
       "      <td>...</td>\n",
       "      <td>...</td>\n",
       "      <td>...</td>\n",
       "      <td>...</td>\n",
       "    </tr>\n",
       "    <tr>\n",
       "      <th>7555</th>\n",
       "      <td>True</td>\n",
       "      <td>True</td>\n",
       "      <td>True</td>\n",
       "      <td>True</td>\n",
       "      <td>True</td>\n",
       "      <td>True</td>\n",
       "    </tr>\n",
       "    <tr>\n",
       "      <th>7556</th>\n",
       "      <td>True</td>\n",
       "      <td>True</td>\n",
       "      <td>True</td>\n",
       "      <td>True</td>\n",
       "      <td>True</td>\n",
       "      <td>True</td>\n",
       "    </tr>\n",
       "    <tr>\n",
       "      <th>7557</th>\n",
       "      <td>True</td>\n",
       "      <td>True</td>\n",
       "      <td>True</td>\n",
       "      <td>True</td>\n",
       "      <td>True</td>\n",
       "      <td>True</td>\n",
       "    </tr>\n",
       "    <tr>\n",
       "      <th>7558</th>\n",
       "      <td>True</td>\n",
       "      <td>True</td>\n",
       "      <td>True</td>\n",
       "      <td>True</td>\n",
       "      <td>True</td>\n",
       "      <td>True</td>\n",
       "    </tr>\n",
       "    <tr>\n",
       "      <th>7559</th>\n",
       "      <td>True</td>\n",
       "      <td>True</td>\n",
       "      <td>True</td>\n",
       "      <td>True</td>\n",
       "      <td>True</td>\n",
       "      <td>True</td>\n",
       "    </tr>\n",
       "  </tbody>\n",
       "</table>\n",
       "<p>7560 rows × 6 columns</p>\n",
       "</div>"
      ],
      "text/plain": [
       "      Date  Time  State  Group  Unit  Sales\n",
       "0     True  True   True   True  True   True\n",
       "1     True  True   True   True  True   True\n",
       "2     True  True   True   True  True   True\n",
       "3     True  True   True   True  True   True\n",
       "4     True  True   True   True  True   True\n",
       "...    ...   ...    ...    ...   ...    ...\n",
       "7555  True  True   True   True  True   True\n",
       "7556  True  True   True   True  True   True\n",
       "7557  True  True   True   True  True   True\n",
       "7558  True  True   True   True  True   True\n",
       "7559  True  True   True   True  True   True\n",
       "\n",
       "[7560 rows x 6 columns]"
      ]
     },
     "execution_count": 29,
     "metadata": {},
     "output_type": "execute_result"
    }
   ],
   "source": [
    "df.notna()"
   ]
  },
  {
   "cell_type": "code",
   "execution_count": 46,
   "id": "95dd0ba6-aa4a-43c4-9b2c-213798688520",
   "metadata": {
    "tags": []
   },
   "outputs": [
    {
     "data": {
      "text/html": [
       "<div>\n",
       "<style scoped>\n",
       "    .dataframe tbody tr th:only-of-type {\n",
       "        vertical-align: middle;\n",
       "    }\n",
       "\n",
       "    .dataframe tbody tr th {\n",
       "        vertical-align: top;\n",
       "    }\n",
       "\n",
       "    .dataframe thead th {\n",
       "        text-align: right;\n",
       "    }\n",
       "</style>\n",
       "<table border=\"1\" class=\"dataframe\">\n",
       "  <thead>\n",
       "    <tr style=\"text-align: right;\">\n",
       "      <th></th>\n",
       "      <th>Date</th>\n",
       "      <th>Time</th>\n",
       "      <th>State</th>\n",
       "      <th>Group</th>\n",
       "      <th>Unit</th>\n",
       "      <th>Sales</th>\n",
       "    </tr>\n",
       "  </thead>\n",
       "  <tbody>\n",
       "    <tr>\n",
       "      <th>0</th>\n",
       "      <td>1-Oct-2020</td>\n",
       "      <td>Morning</td>\n",
       "      <td>WA</td>\n",
       "      <td>Kids</td>\n",
       "      <td>8</td>\n",
       "      <td>20000</td>\n",
       "    </tr>\n",
       "    <tr>\n",
       "      <th>1</th>\n",
       "      <td>1-Oct-2020</td>\n",
       "      <td>Morning</td>\n",
       "      <td>WA</td>\n",
       "      <td>Men</td>\n",
       "      <td>8</td>\n",
       "      <td>20000</td>\n",
       "    </tr>\n",
       "    <tr>\n",
       "      <th>2</th>\n",
       "      <td>1-Oct-2020</td>\n",
       "      <td>Morning</td>\n",
       "      <td>WA</td>\n",
       "      <td>Women</td>\n",
       "      <td>4</td>\n",
       "      <td>10000</td>\n",
       "    </tr>\n",
       "    <tr>\n",
       "      <th>3</th>\n",
       "      <td>1-Oct-2020</td>\n",
       "      <td>Morning</td>\n",
       "      <td>WA</td>\n",
       "      <td>Seniors</td>\n",
       "      <td>15</td>\n",
       "      <td>37500</td>\n",
       "    </tr>\n",
       "    <tr>\n",
       "      <th>4</th>\n",
       "      <td>1-Oct-2020</td>\n",
       "      <td>Afternoon</td>\n",
       "      <td>WA</td>\n",
       "      <td>Kids</td>\n",
       "      <td>3</td>\n",
       "      <td>7500</td>\n",
       "    </tr>\n",
       "    <tr>\n",
       "      <th>...</th>\n",
       "      <td>...</td>\n",
       "      <td>...</td>\n",
       "      <td>...</td>\n",
       "      <td>...</td>\n",
       "      <td>...</td>\n",
       "      <td>...</td>\n",
       "    </tr>\n",
       "    <tr>\n",
       "      <th>7555</th>\n",
       "      <td>30-Dec-2020</td>\n",
       "      <td>Afternoon</td>\n",
       "      <td>TAS</td>\n",
       "      <td>Seniors</td>\n",
       "      <td>14</td>\n",
       "      <td>35000</td>\n",
       "    </tr>\n",
       "    <tr>\n",
       "      <th>7556</th>\n",
       "      <td>30-Dec-2020</td>\n",
       "      <td>Evening</td>\n",
       "      <td>TAS</td>\n",
       "      <td>Kids</td>\n",
       "      <td>15</td>\n",
       "      <td>37500</td>\n",
       "    </tr>\n",
       "    <tr>\n",
       "      <th>7557</th>\n",
       "      <td>30-Dec-2020</td>\n",
       "      <td>Evening</td>\n",
       "      <td>TAS</td>\n",
       "      <td>Men</td>\n",
       "      <td>15</td>\n",
       "      <td>37500</td>\n",
       "    </tr>\n",
       "    <tr>\n",
       "      <th>7558</th>\n",
       "      <td>30-Dec-2020</td>\n",
       "      <td>Evening</td>\n",
       "      <td>TAS</td>\n",
       "      <td>Women</td>\n",
       "      <td>11</td>\n",
       "      <td>27500</td>\n",
       "    </tr>\n",
       "    <tr>\n",
       "      <th>7559</th>\n",
       "      <td>30-Dec-2020</td>\n",
       "      <td>Evening</td>\n",
       "      <td>TAS</td>\n",
       "      <td>Seniors</td>\n",
       "      <td>13</td>\n",
       "      <td>32500</td>\n",
       "    </tr>\n",
       "  </tbody>\n",
       "</table>\n",
       "<p>7560 rows × 6 columns</p>\n",
       "</div>"
      ],
      "text/plain": [
       "             Date        Time State     Group  Unit  Sales\n",
       "0      1-Oct-2020     Morning    WA      Kids     8  20000\n",
       "1      1-Oct-2020     Morning    WA       Men     8  20000\n",
       "2      1-Oct-2020     Morning    WA     Women     4  10000\n",
       "3      1-Oct-2020     Morning    WA   Seniors    15  37500\n",
       "4      1-Oct-2020   Afternoon    WA      Kids     3   7500\n",
       "...           ...         ...   ...       ...   ...    ...\n",
       "7555  30-Dec-2020   Afternoon   TAS   Seniors    14  35000\n",
       "7556  30-Dec-2020     Evening   TAS      Kids    15  37500\n",
       "7557  30-Dec-2020     Evening   TAS       Men    15  37500\n",
       "7558  30-Dec-2020     Evening   TAS     Women    11  27500\n",
       "7559  30-Dec-2020     Evening   TAS   Seniors    13  32500\n",
       "\n",
       "[7560 rows x 6 columns]"
      ]
     },
     "execution_count": 46,
     "metadata": {},
     "output_type": "execute_result"
    }
   ],
   "source": [
    "#Based on your knowledge of Data Analytics, include your recommendation for treating missing data and incorrect data. (dropping the null values or filling them)\n",
    "\n",
    "df.fillna(df[['Unit','Sales']].mean())"
   ]
  },
  {
   "cell_type": "code",
   "execution_count": 73,
   "id": "2315f383-8fda-477e-ba89-6ba7c3cf86a4",
   "metadata": {
    "tags": []
   },
   "outputs": [
    {
     "name": "stdout",
     "output_type": "stream",
     "text": [
      "             Date        Time State     Group  Unit  Sales  Normalized_Sales\n",
      "0      1-Oct-2020     Morning    WA      Kids     8  20000          0.095238\n",
      "1      1-Oct-2020     Morning    WA       Men     8  20000          0.095238\n",
      "2      1-Oct-2020     Morning    WA     Women     4  10000          0.031746\n",
      "3      1-Oct-2020     Morning    WA   Seniors    15  37500          0.206349\n",
      "4      1-Oct-2020   Afternoon    WA      Kids     3   7500          0.015873\n",
      "...           ...         ...   ...       ...   ...    ...               ...\n",
      "7555  30-Dec-2020   Afternoon   TAS   Seniors    14  35000          0.190476\n",
      "7556  30-Dec-2020     Evening   TAS      Kids    15  37500          0.206349\n",
      "7557  30-Dec-2020     Evening   TAS       Men    15  37500          0.206349\n",
      "7558  30-Dec-2020     Evening   TAS     Women    11  27500          0.142857\n",
      "7559  30-Dec-2020     Evening   TAS   Seniors    13  32500          0.174603\n",
      "\n",
      "[7560 rows x 7 columns]\n"
     ]
    }
   ],
   "source": [
    "#●Select an appropriate Data Wrangling approach —  data standardization or data normalization. Perform the standardization or normalization and present the data. (Normalization is the preferred approach for this problem.)\n",
    "import numpy as np\n",
    "if 'Sales' in df.columns:\n",
    "    df['Normalized_Sales'] = (df['Sales'] - df['Sales'].min()) / (df['Sales'].max() - df['Sales'].min())\n",
    "    print(df)\n",
    "else :\n",
    " print('The Sales is not exists')"
   ]
  },
  {
   "cell_type": "code",
   "execution_count": 105,
   "id": "a75c6e86-449d-4d01-b67a-d48b3833e629",
   "metadata": {
    "tags": []
   },
   "outputs": [
    {
     "name": "stdout",
     "output_type": "stream",
     "text": [
      "Aggregated data from the excel\n",
      "                 Sales\n",
      "Group                 \n",
      " Kids     45011.904762\n",
      " Men      45370.370370\n",
      " Seniors  44464.285714\n",
      " Women    45207.671958\n"
     ]
    }
   ],
   "source": [
    "#Share your recommendation on the usage of the groupby() function for data chunking or merging.\n",
    "df = pd.DataFrame({'Group':df['Group'],'Sales':df['Sales']})\n",
    "df_aggregated = df.groupby('Group').mean()\n",
    "print('Aggregated data from the excel')\n",
    "print(df_aggregated)"
   ]
  },
  {
   "cell_type": "code",
   "execution_count": null,
   "id": "4e611044-a5ef-4860-b817-7dc0894dcc23",
   "metadata": {},
   "outputs": [],
   "source": [
    "#"
   ]
  },
  {
   "cell_type": "code",
   "execution_count": null,
   "id": "6108ecd1-6704-4777-ac1b-a355f0f6de42",
   "metadata": {},
   "outputs": [],
   "source": [
    "# 2.Data Analysis"
   ]
  },
  {
   "cell_type": "code",
   "execution_count": 114,
   "id": "e1ca00bc-c2b8-4b49-b27d-071459799f35",
   "metadata": {
    "tags": []
   },
   "outputs": [
    {
     "data": {
      "text/html": [
       "<div>\n",
       "<style scoped>\n",
       "    .dataframe tbody tr th:only-of-type {\n",
       "        vertical-align: middle;\n",
       "    }\n",
       "\n",
       "    .dataframe tbody tr th {\n",
       "        vertical-align: top;\n",
       "    }\n",
       "\n",
       "    .dataframe thead th {\n",
       "        text-align: right;\n",
       "    }\n",
       "</style>\n",
       "<table border=\"1\" class=\"dataframe\">\n",
       "  <thead>\n",
       "    <tr style=\"text-align: right;\">\n",
       "      <th></th>\n",
       "      <th>Sales</th>\n",
       "    </tr>\n",
       "  </thead>\n",
       "  <tbody>\n",
       "    <tr>\n",
       "      <th>count</th>\n",
       "      <td>7560.000000</td>\n",
       "    </tr>\n",
       "    <tr>\n",
       "      <th>mean</th>\n",
       "      <td>45013.558201</td>\n",
       "    </tr>\n",
       "    <tr>\n",
       "      <th>std</th>\n",
       "      <td>32253.506944</td>\n",
       "    </tr>\n",
       "    <tr>\n",
       "      <th>min</th>\n",
       "      <td>5000.000000</td>\n",
       "    </tr>\n",
       "    <tr>\n",
       "      <th>25%</th>\n",
       "      <td>20000.000000</td>\n",
       "    </tr>\n",
       "    <tr>\n",
       "      <th>50%</th>\n",
       "      <td>35000.000000</td>\n",
       "    </tr>\n",
       "    <tr>\n",
       "      <th>75%</th>\n",
       "      <td>65000.000000</td>\n",
       "    </tr>\n",
       "    <tr>\n",
       "      <th>max</th>\n",
       "      <td>162500.000000</td>\n",
       "    </tr>\n",
       "  </tbody>\n",
       "</table>\n",
       "</div>"
      ],
      "text/plain": [
       "               Sales\n",
       "count    7560.000000\n",
       "mean    45013.558201\n",
       "std     32253.506944\n",
       "min      5000.000000\n",
       "25%     20000.000000\n",
       "50%     35000.000000\n",
       "75%     65000.000000\n",
       "max    162500.000000"
      ]
     },
     "execution_count": 114,
     "metadata": {},
     "output_type": "execute_result"
    }
   ],
   "source": [
    "#Perform descriptive statistical analysis on the data (Sales and Unit columns) \n",
    "#(Techniques such as mean, median, mode and standard deviation can be used.).\n",
    "df.describe()"
   ]
  },
  {
   "cell_type": "code",
   "execution_count": 139,
   "id": "0dbd9cb2-5712-481d-b36e-c1e7ad814259",
   "metadata": {},
   "outputs": [
    {
     "name": "stdout",
     "output_type": "stream",
     "text": [
      "highest sales  Sales     Men\n",
      "dtype: object Sales    45370.37037\n",
      "dtype: float64\n",
      "Lowest Sale Sales     Seniors\n",
      "dtype: object Sales    44464.285714\n",
      "dtype: float64\n"
     ]
    }
   ],
   "source": [
    "#Determine which group is generating the highest sales, and which group is generating the lowest sales.\n",
    "df = pd.read_csv('AusApparalSales4thQrt2020.csv')\n",
    "df = pd.DataFrame({'Group':df['Group'],'Sales':df['Sales']})\n",
    "df_agg = df.groupby('Group').mean()\n",
    "print(\"highest sales \",df_agg.idxmax() ,df_agg.max())\n",
    "\n",
    "df_agg_low = df.groupby('Group').mean()\n",
    "print('Lowest Sale', df_agg_low.idxmin(), df_agg_low.min() )\n"
   ]
  },
  {
   "cell_type": "code",
   "execution_count": 159,
   "id": "f5682af6-ef0c-405b-b631-cc65235bc4b5",
   "metadata": {
    "tags": []
   },
   "outputs": [
    {
     "name": "stdout",
     "output_type": "stream",
     "text": [
      "Higest Sales  Sales     VIC\n",
      "dtype: object Sales    97745.37037\n",
      "dtype: float64\n",
      "Lowest Sale  Sales     WA\n",
      "dtype: object Sales    20511.574074\n",
      "dtype: float64\n"
     ]
    }
   ],
   "source": [
    "#Determine which state is generating the highest sales, and which state is generating the lowest sales.\n",
    "df = pd.read_csv('AusApparalSales4thQrt2020.csv')\n",
    "df = pd.DataFrame({'State':df['State'],'Sales':df['Sales']})\n",
    "df_agg = df.groupby('State').mean()\n",
    "print(\"Higest Sales \", df_agg.idxmax(), df_agg.max())\n",
    "\n",
    "df_agg_low = df.groupby('State').mean()\n",
    "print(\"Lowest Sale \",df_agg_low.idxmin(), df_agg.min())"
   ]
  },
  {
   "cell_type": "code",
   "execution_count": 218,
   "id": "5510881d-4446-456e-9325-d805f33fde70",
   "metadata": {
    "tags": []
   },
   "outputs": [
    {
     "name": "stdout",
     "output_type": "stream",
     "text": [
      "2020-10-01 00:00:00\n",
      "2020-12-30 00:00:00\n",
      "Weekly Date range  DatetimeIndex(['2020-10-04', '2020-10-11', '2020-10-18', '2020-10-25',\n",
      "               '2020-11-01', '2020-11-08', '2020-11-15', '2020-11-22',\n",
      "               '2020-11-29', '2020-12-06', '2020-12-13', '2020-12-20',\n",
      "               '2020-12-27'],\n",
      "              dtype='datetime64[ns]', freq='W-SUN')\n",
      "Weekly Date monthly  DatetimeIndex(['2020-10-31', '2020-11-30'], dtype='datetime64[ns]', freq='M')\n",
      "Weekly Date quarterly  DatetimeIndex([], dtype='datetime64[ns]', freq='Q-DEC')\n"
     ]
    }
   ],
   "source": [
    "#Generate weekly, monthly and quarterly reports for the analysis made.\n",
    "#(Use suitable libraries such as NumPy, Pandas, SciPy etc. for performing the analysis.)\n",
    "df = pd.read_csv('AusApparalSales4thQrt2020.csv')\n",
    "df['Date'] = pd.to_datetime(df['Date'])\n",
    "min_dt = df['Date'].min()\n",
    "max_dt = df['Date'].max()\n",
    "print(min_dt)\n",
    "print(max_dt)\n",
    "date_range_w =  pd.date_range(start=min_dt, end=max_dt, freq='W')\n",
    "date_range_m =  pd.date_range(start=min_dt, end=max_dt, freq='M')\n",
    "date_range_q =  pd.date_range(start=min_dt, end=max_dt, freq='Q')\n",
    "print('Weekly Date range ',date_range_w)\n",
    "print('Weekly Date monthly ',date_range_m)\n",
    "print('Weekly Date quarterly ',date_range_q)"
   ]
  },
  {
   "cell_type": "code",
   "execution_count": 222,
   "id": "a5b9052d-2a10-4cc9-a1c5-4194e384d02f",
   "metadata": {
    "tags": []
   },
   "outputs": [],
   "source": [
    "#"
   ]
  },
  {
   "cell_type": "code",
   "execution_count": 224,
   "id": "bf8b43cd-4a5d-4e80-b060-4c7232cb920d",
   "metadata": {
    "tags": []
   },
   "outputs": [],
   "source": [
    "#3.Data Visualization"
   ]
  },
  {
   "cell_type": "code",
   "execution_count": 264,
   "id": "902e8b1b-0243-42de-9ee1-7a7e16402016",
   "metadata": {
    "tags": []
   },
   "outputs": [
    {
     "data": {
      "image/png": "[encoded data removed]",
      "text/plain": [
       "<Figure size 1000x600 with 1 Axes>"
      ]
     },
     "metadata": {},
     "output_type": "display_data"
    }
   ],
   "source": [
    "#Use appropriate data visualization libraries to build a dashboard for the Head of S&M that includes for the key parameters like \n",
    "#State-wise sales analysis for different groups (kids, women, men, and seniors) \n",
    "\n",
    "#Time-of-the-day analysis: during which time of the day are sales the highest, and during which time are sales the lowest?\n",
    "#[This helps S&M teams design programs for increasing sales such as hyper-personalization and Next Best Offers].\n",
    "#The dashboard must contain daily, weekly, monthly and quarterly charts.\n",
    "# (Any visualization library can be used for this purpose. However, since statistical analysis is being done, Seaborn is preferred.)\n",
    "import matplotlib.pyplot as plt\n",
    "df = pd.read_csv('AusApparalSales4thQrt2020.csv')\n",
    "df = pd.DataFrame(df)\n",
    "group_data = df.groupby(['State','Group'])['Sales'].sum()\n",
    "#print(group_data)\n",
    "group_data.plot(kind='bar', stacked=True, figsize=(10, 6))\n",
    "plt.title('State-wise Sales for Different Customer Groups')\n",
    "plt.xlabel('State')\n",
    "plt.ylabel('Sales')\n",
    "plt.legend(title='Group')\n",
    "plt.xticks(rotation=0)\n",
    "plt.show()"
   ]
  },
  {
   "cell_type": "code",
   "execution_count": 269,
   "id": "442da790-7d9a-44b0-90a9-ff648f49c128",
   "metadata": {
    "tags": []
   },
   "outputs": [
    {
     "data": {
      "image/png": "[encoded data removed]",
      "text/plain": [
       "<Figure size 1000x600 with 1 Axes>"
      ]
     },
     "metadata": {},
     "output_type": "display_data"
    }
   ],
   "source": [
    "#Group-wise sales analysis (kids, women, men, and seniors) across different states.\n",
    "import matplotlib.pyplot as plt\n",
    "df = pd.read_csv('AusApparalSales4thQrt2020.csv')\n",
    "df = pd.DataFrame(df)\n",
    "group_data = df.groupby(['Group','State'])['Sales'].sum()\n",
    "#print(group_data)\n",
    "group_data.plot(kind='bar', stacked=True, figsize=(10, 6))\n",
    "plt.title('State-wise Sales for Different Customer Groups')\n",
    "plt.xlabel('Group')\n",
    "plt.ylabel('Sales')\n",
    "plt.legend(title='State')\n",
    "plt.xticks(rotation=0)\n",
    "plt.show()"
   ]
  }
 ],
 "metadata": {
  "kernelspec": {
   "display_name": "Python 3 (ipykernel)",
   "language": "python",
   "name": "python3"
  },
  "language_info": {
   "codemirror_mode": {
    "name": "ipython",
    "version": 3
   },
   "file_extension": ".py",
   "mimetype": "text/x-python",
   "name": "python",
   "nbconvert_exporter": "python",
   "pygments_lexer": "ipython3",
   "version": "3.11.7"
  }
 },
 "nbformat": 4,
 "nbformat_minor": 5
}
